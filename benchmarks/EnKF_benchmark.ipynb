{
 "cells": [
  {
   "cell_type": "code",
   "execution_count": null,
   "id": "4cc11a8c",
   "metadata": {},
   "outputs": [],
   "source": [
    "using Random\n",
    "using LinearAlgebra\n",
    "using Distributions\n",
    "using Dates\n",
    "using Profile\n",
    "using BenchmarkTools\n",
    "\n",
    "using PhDSE"
   ]
  },
  {
   "cell_type": "code",
   "execution_count": null,
   "id": "aea2c429",
   "metadata": {},
   "outputs": [],
   "source": [
    "BenchmarkTools.DEFAULT_PARAMETERS.samples = 1"
   ]
  },
  {
   "cell_type": "code",
   "execution_count": null,
   "id": "2c0baf7e",
   "metadata": {
    "scrolled": false
   },
   "outputs": [],
   "source": [
    "include(\"_setup.jl\")"
   ]
  },
  {
   "cell_type": "code",
   "execution_count": null,
   "id": "35dd2e82",
   "metadata": {},
   "outputs": [],
   "source": [
    "@info \"Precompile\"\n",
    "_D, _d = 1000, 1000\n",
    "_N = 200\n",
    "\n",
    "const _Φ, _Q, _u, _H, _R, _v, _y, _μ₀, _Σ₀ = kalman_setup(D=_D, d=_d)\n",
    "const _Rinv = inv(_R)\n",
    "\n",
    "# Allocate memory\n",
    "_fcache = EnKFCache(\n",
    "    _D,\n",
    "    _d,\n",
    "    ensemble_size = _N,\n",
    "    process_noise_dist = MvNormal(zeros(_D), _Q),\n",
    "    observation_noise_dist = MvNormal(zeros(_d), _R),\n",
    ")\n",
    "_init_ensemble = rand(MvNormal(_μ₀, _Σ₀), _N)\n",
    "copy!(_fcache.ensemble, _init_ensemble)\n",
    "@info \"Precompilation done\""
   ]
  },
  {
   "cell_type": "code",
   "execution_count": null,
   "id": "13ffb354",
   "metadata": {},
   "outputs": [],
   "source": [
    "Ns = 2 .^collect(3:11);"
   ]
  },
  {
   "cell_type": "code",
   "execution_count": null,
   "id": "1556130b",
   "metadata": {},
   "outputs": [],
   "source": [
    "Ds = 2 .^collect(3:11);"
   ]
  },
  {
   "cell_type": "code",
   "execution_count": null,
   "id": "fa2130e0",
   "metadata": {},
   "outputs": [],
   "source": [
    "function bench(fsetup; N, benchmark_samples=1)\n",
    "    Φ, Q, u, H, R, v, y, μ₀, Σ₀ = fsetup\n",
    "    d, D = size(H)\n",
    "    Rinv = inv(R)\n",
    "    \n",
    "    # Allocate memory\n",
    "    fcache = EnKFCache(\n",
    "        D,\n",
    "        d,\n",
    "        ensemble_size = N,\n",
    "        process_noise_dist = MvNormal(zeros(D), Q),\n",
    "        observation_noise_dist = MvNormal(zeros(d), R),\n",
    "    )\n",
    "    init_ensemble = rand(MvNormal(μ₀, Σ₀), N)\n",
    "    copy!(fcache.ensemble, init_ensemble)\n",
    "    \n",
    "    Profile.clear()\n",
    "    bres_correct = @benchmark enkf_correct!($fcache, $H, $Rinv, $y, $v) samples=benchmark_samples\n",
    "    \n",
    "    return bres_correct\n",
    "end"
   ]
  },
  {
   "cell_type": "code",
   "execution_count": null,
   "id": "b17ede2e",
   "metadata": {},
   "outputs": [],
   "source": [
    "bres_results_per_D = []\n",
    "bres_results_per_N = []"
   ]
  },
  {
   "cell_type": "code",
   "execution_count": null,
   "id": "bdd16c80",
   "metadata": {
    "scrolled": true
   },
   "outputs": [],
   "source": [
    "for D in Ds\n",
    "    println(D)\n",
    "    push!(bres_results_per_D, bench(kalman_setup(D=D, d=D), N=200)) \n",
    "end"
   ]
  },
  {
   "cell_type": "code",
   "execution_count": null,
   "id": "33dc9681",
   "metadata": {},
   "outputs": [],
   "source": [
    "for N in Ns\n",
    "    println(N)\n",
    "    push!(bres_results_per_N, bench(kalman_setup(D=1000, d=1000), N=N)) \n",
    "end"
   ]
  },
  {
   "cell_type": "code",
   "execution_count": null,
   "id": "62c8bde6",
   "metadata": {},
   "outputs": [],
   "source": [
    "in_ms(t::BenchmarkTools.Trial) = mean(t).time / 1e6"
   ]
  },
  {
   "cell_type": "code",
   "execution_count": null,
   "id": "29b2c6b6",
   "metadata": {},
   "outputs": [],
   "source": [
    "using Plots"
   ]
  },
  {
   "cell_type": "code",
   "execution_count": null,
   "id": "1af47517",
   "metadata": {},
   "outputs": [],
   "source": [
    "scatter(\n",
    "    Ns, \n",
    "    map(in_ms, bres_results_per_N), \n",
    "    title=\"Runtime vs. ensemble size\", \n",
    "    xlabel=\"ensemble size\", \n",
    "    ylabel=\"time [ms]\", \n",
    "    label=\"\"\n",
    ")"
   ]
  },
  {
   "cell_type": "code",
   "execution_count": null,
   "id": "28fcc220",
   "metadata": {},
   "outputs": [],
   "source": [
    "scatter(\n",
    "    Ds, \n",
    "    map(in_ms, bres_results_per_D), \n",
    "    title=\"Runtime vs. state dimensions\", \n",
    "    xlabel=\"dimensions\", \n",
    "    ylabel=\"time [ms]\", \n",
    "    label=\"\"\n",
    ")"
   ]
  }
 ],
 "metadata": {
  "@webio": {
   "lastCommId": null,
   "lastKernelId": null
  },
  "kernelspec": {
   "display_name": "Julia 1.8.0",
   "language": "julia",
   "name": "julia-1.8"
  },
  "language_info": {
   "file_extension": ".jl",
   "mimetype": "application/julia",
   "name": "julia",
   "version": "1.8.0"
  }
 },
 "nbformat": 4,
 "nbformat_minor": 5
}
