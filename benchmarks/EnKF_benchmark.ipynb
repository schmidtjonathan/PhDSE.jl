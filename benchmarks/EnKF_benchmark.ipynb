{
 "cells": [
  {
   "cell_type": "code",
   "execution_count": null,
   "id": "4cc11a8c",
   "metadata": {},
   "outputs": [],
   "source": [
    "using Random\n",
    "using LinearAlgebra\n",
    "using Distributions\n",
    "using Dates\n",
    "using Profile\n",
    "using BenchmarkTools\n",
    "\n",
    "using PhDSE"
   ]
  },
  {
   "cell_type": "code",
   "execution_count": null,
   "id": "8afdcac4",
   "metadata": {},
   "outputs": [],
   "source": [
    "@info \"\" Base.current_project()"
   ]
  },
  {
   "cell_type": "code",
   "execution_count": null,
   "id": "2c0baf7e",
   "metadata": {
    "scrolled": false
   },
   "outputs": [],
   "source": [
    "include(\"_setup.jl\")"
   ]
  },
  {
   "cell_type": "code",
   "execution_count": null,
   "id": "35dd2e82",
   "metadata": {},
   "outputs": [],
   "source": [
    "@info \"Precompile\"\n",
    "_D, _d = 1000, 1000\n",
    "_N = 200\n",
    "\n",
    "const _Φ, _Q, _u, _H, _R, _v, _y, _μ₀, _Σ₀ = kalman_setup(D=_D, d=_d)\n",
    "const _Rinv = inv(_R)\n",
    "\n",
    "# Allocate memory\n",
    "_fcache = EnKFCache(\n",
    "    _D,\n",
    "    _d,\n",
    "    ensemble_size = _N,\n",
    "    process_noise_dist = MvNormal(zeros(_D), _Q),\n",
    "    observation_noise_dist = MvNormal(zeros(_d), _R),\n",
    ")\n",
    "_init_ensemble = rand(MvNormal(_μ₀, _Σ₀), _N)\n",
    "copy!(_fcache.ensemble, _init_ensemble)\n",
    "@info \"Precompilation done\""
   ]
  },
  {
   "cell_type": "code",
   "execution_count": null,
   "id": "13ffb354",
   "metadata": {},
   "outputs": [],
   "source": [
    "Ns = [10, 100, 500, 1000, 5000, 10000, 20000]"
   ]
  },
  {
   "cell_type": "code",
   "execution_count": null,
   "id": "1556130b",
   "metadata": {},
   "outputs": [],
   "source": [
    "Ds = [10, 100, 500, 1000, 5000, 10000, 20000]"
   ]
  },
  {
   "cell_type": "code",
   "execution_count": null,
   "id": "fa2130e0",
   "metadata": {},
   "outputs": [],
   "source": [
    "function bench(; D, d, N, benchmark_samples=1)\n",
    "    Φ, Q, u, H, R, v, y, μ₀, Σ₀ = kalman_setup(D=D, d=d)\n",
    "    Rinv = inv(R)\n",
    "    \n",
    "    # Allocate memory\n",
    "    fcache = EnKFCache(\n",
    "        D,\n",
    "        d,\n",
    "        ensemble_size = N,\n",
    "        process_noise_dist = MvNormal(zeros(D), Q),\n",
    "        observation_noise_dist = MvNormal(zeros(d), R),\n",
    "    )\n",
    "    init_ensemble = rand(MvNormal(μ₀, Σ₀), N)\n",
    "    copy!(fcache.forecast_ensemble, init_ensemble)\n",
    "    \n",
    "    Profile.clear()\n",
    "    bres_correct = @benchmark enkf_correct!($fcache, $H, $Rinv, $y, $v) samples=benchmark_samples\n",
    "    \n",
    "    return bres_correct\n",
    "end"
   ]
  },
  {
   "cell_type": "code",
   "execution_count": null,
   "id": "62c8bde6",
   "metadata": {},
   "outputs": [],
   "source": [
    "in_ms(t::BenchmarkTools.Trial) = mean(t).time / 1e6"
   ]
  },
  {
   "cell_type": "code",
   "execution_count": null,
   "id": "b17ede2e",
   "metadata": {},
   "outputs": [],
   "source": [
    "bres_results_per_D = []\n",
    "bres_results_per_N = []"
   ]
  },
  {
   "cell_type": "code",
   "execution_count": null,
   "id": "bdd16c80",
   "metadata": {
    "scrolled": true
   },
   "outputs": [],
   "source": [
    "for D in Ds\n",
    "    bres = bench(D=D, d=D, N=5)\n",
    "    push!(bres_results_per_D, bres)\n",
    "    println(\"D = $D ---> $(in_ms(bres))ms\")\n",
    "end"
   ]
  },
  {
   "cell_type": "code",
   "execution_count": null,
   "id": "33dc9681",
   "metadata": {},
   "outputs": [],
   "source": [
    "for N in Ns\n",
    "    bres = bench(D=5, d=5, N=N)\n",
    "    push!(bres_results_per_N, bres)\n",
    "    println(\"N = $N ---> $(in_ms(bres))ms\")\n",
    "end"
   ]
  },
  {
   "cell_type": "code",
   "execution_count": null,
   "id": "29b2c6b6",
   "metadata": {},
   "outputs": [],
   "source": [
    "using Plots"
   ]
  },
  {
   "cell_type": "code",
   "execution_count": null,
   "id": "28fcc220",
   "metadata": {},
   "outputs": [],
   "source": [
    "scatter(\n",
    "    Ds, \n",
    "    map(in_ms, bres_results_per_D), \n",
    "    title=\"Runtime vs. state dimensions/ensemble size\", \n",
    "    xlabel=\"dimensions/ensemble size\", \n",
    "    ylabel=\"time [ms]\", \n",
    "    label=\"D\",\n",
    "    legend=:bottomright,\n",
    ")"
   ]
  },
  {
   "cell_type": "code",
   "execution_count": null,
   "id": "1af47517",
   "metadata": {},
   "outputs": [],
   "source": [
    "scatter!(\n",
    "    Ns, \n",
    "    map(in_ms, bres_results_per_N), \n",
    "    label=\"N\"\n",
    ")"
   ]
  },
  {
   "cell_type": "code",
   "execution_count": null,
   "id": "f657f629",
   "metadata": {},
   "outputs": [],
   "source": []
  }
 ],
 "metadata": {
  "@webio": {
   "lastCommId": null,
   "lastKernelId": null
  },
  "kernelspec": {
   "display_name": "Julia 1.8.0",
   "language": "julia",
   "name": "julia-1.8"
  },
  "language_info": {
   "file_extension": ".jl",
   "mimetype": "application/julia",
   "name": "julia",
   "version": "1.8.0"
  }
 },
 "nbformat": 4,
 "nbformat_minor": 5
}
